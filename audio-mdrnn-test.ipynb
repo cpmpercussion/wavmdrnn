{
 "cells": [
  {
   "cell_type": "markdown",
   "metadata": {
    "autoscroll": false,
    "ein.hycell": false,
    "ein.tags": "worksheet-0",
    "slideshow": {
     "slide_type": "-"
    }
   },
   "source": [
    "# Tests on Audio-to-Audio MDRNN\n",
    "\n",
    "This notebook runs some experiments with the Audio-to-Audio MDRNN"
   ]
  },
  {
   "cell_type": "code",
   "execution_count": null,
   "metadata": {
    "autoscroll": false,
    "ein.hycell": false,
    "ein.tags": "worksheet-0",
    "slideshow": {
     "slide_type": "-"
    }
   },
   "outputs": [],
   "source": [
    "from wavmdrnn.dataprocessor import DataProcessor\n",
    "from wavmdrnn import Model"
   ]
  },
  {
   "cell_type": "markdown",
   "metadata": {},
   "source": [
    "## Setup hyperparameters"
   ]
  },
  {
   "cell_type": "code",
   "execution_count": null,
   "metadata": {
    "autoscroll": false,
    "ein.hycell": false,
    "ein.tags": "worksheet-0",
    "slideshow": {
     "slide_type": "-"
    }
   },
   "outputs": [],
   "source": [
    "model_choice = 2\n",
    "#Choices: 1 => [0, 1], 2 => N(0, 1), 3 => [-1, 1]\n",
    "normalization_version = 2\n",
    "n_mfcc = 35\n",
    "num_time_steps = 201\n",
    "k = 1\n",
    "percentile_test = 0\n",
    "validation_split = 0.15\n",
    "num_epochs = 50\n",
    "N_MIXES = 5\n",
    "batch_size = 64\n",
    "input_data_start = 0\n",
    "num_preds = 50"
   ]
  },
  {
   "cell_type": "markdown",
   "metadata": {},
   "source": [
    "## Load the data\n",
    "\n",
    "- todo: should save the intermediary data file."
   ]
  },
  {
   "cell_type": "code",
   "execution_count": null,
   "metadata": {
    "autoscroll": false,
    "ein.hycell": false,
    "ein.tags": "worksheet-0",
    "slideshow": {
     "slide_type": "-"
    }
   },
   "outputs": [],
   "source": [
    "wav_dir = \"./wavfiles\"\n",
    "\n",
    "data_processor = DataProcessor(wav_dir=wav_dir, n_mfcc=n_mfcc)\n",
    "\n",
    "data_processor.choose_data_model(normalization_version=normalization_version, \n",
    "                                 data_version=model_choice, \n",
    "                                 num_time_steps=num_time_steps, \n",
    "                                 k=k, \n",
    "                                 percentile_test=percentile_test)"
   ]
  },
  {
   "cell_type": "markdown",
   "metadata": {},
   "source": [
    "## Construct the model"
   ]
  },
  {
   "cell_type": "code",
   "execution_count": null,
   "metadata": {
    "autoscroll": false,
    "ein.hycell": false,
    "ein.tags": "worksheet-0",
    "slideshow": {
     "slide_type": "-"
    }
   },
   "outputs": [],
   "source": [
    "name = 'derp'\n",
    "model = Model(data_processor, model_version=model_choice, name=name)\n",
    "\n",
    "# model.kSM(n_mixes=N_MIXES)\n",
    "model.TDkSM(units=256, n_mixes=N_MIXES)"
   ]
  },
  {
   "cell_type": "markdown",
   "metadata": {},
   "source": [
    "## Do some training."
   ]
  },
  {
   "cell_type": "code",
   "execution_count": null,
   "metadata": {},
   "outputs": [],
   "source": [
    "model.train(epochs=num_epochs, batch_size=batch_size, validation_split=validation_split)"
   ]
  },
  {
   "cell_type": "markdown",
   "metadata": {},
   "source": [
    "## Do some predicting."
   ]
  },
  {
   "cell_type": "code",
   "execution_count": null,
   "metadata": {},
   "outputs": [],
   "source": [
    "model.predict_sequence(input_data_start=input_data_start, num_preds=num_preds, plot_stats=True, save_wav=True)"
   ]
  },
  {
   "cell_type": "code",
   "execution_count": null,
   "metadata": {},
   "outputs": [],
   "source": [
    "# Extra training commands:\n",
    "\n",
    "# if(args.start_train):\n",
    "#         print(\"Start_Train Mode\")\n",
    "#         model.train(epochs=num_epochs, batch_size=batch_size, validation_split=validation_split)\n",
    "#         model.predict_sequence(input_data_start=input_data_start, num_preds=num_preds, plot_stats=True, save_wav=True)\n",
    "# elif(args.more_train):\n",
    "#         print(\"More_Train Mode\")\n",
    "#         model.load()\n",
    "#         model.train(epochs=num_epochs, batch_size=batch_size, validation_split=validation_split)\n",
    "#         model.predict_sequence(input_data_start=input_data_start, num_preds=num_preds, plot_stats=True, save_wav=True)\n",
    "# elif(args.predict):\n",
    "#         print(\"Predict Mode\")\n",
    "#         model.load()\n",
    "#         model.predict_sequence(input_data_start=input_data_start, num_preds=num_preds, plot_stats=True, save_wav=True)"
   ]
  }
 ],
 "metadata": {
  "kernelspec": {
   "display_name": "Python 3",
   "language": "python",
   "name": "python3"
  },
  "language_info": {
   "codemirror_mode": {
    "name": "ipython",
    "version": 3
   },
   "file_extension": ".py",
   "mimetype": "text/x-python",
   "name": "python",
   "nbconvert_exporter": "python",
   "pygments_lexer": "ipython3",
   "version": "3.7.5"
  },
  "name": "Untitled.ipynb"
 },
 "nbformat": 4,
 "nbformat_minor": 2
}
